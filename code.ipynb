{
 "cells": [
  {
   "cell_type": "code",
   "execution_count": null,
   "metadata": {},
   "outputs": [],
   "source": [
    "#verilen PDF dosyasini muhtesem bir sekilde screenshotlara ceviriyor. \n",
    "\n",
    "import fitz  # PyMuPDF\n",
    "from PIL import Image\n",
    "import os\n",
    "\n",
    "def pdf_to_images(pdf_file, output_directory, zoom_factor=2.0):\n",
    "    # Open the PDF file\n",
    "    pdf_document = fitz.open(pdf_file)\n",
    "    \n",
    "    # Ensure the output directory exists\n",
    "    if not os.path.exists(output_directory):\n",
    "        os.makedirs(output_directory)\n",
    "    \n",
    "    # Loop through each page\n",
    "    for page_num in range(pdf_document.page_count):\n",
    "        page = pdf_document.load_page(page_num)  # Load the page\n",
    "        \n",
    "        # Set zoom factor for higher resolution\n",
    "        zoom_matrix = fitz.Matrix(zoom_factor, zoom_factor)  # Increase resolution by zooming\n",
    "        pix = page.get_pixmap(matrix=zoom_matrix)  # Render page with higher resolution\n",
    "        \n",
    "        # Define the output image path\n",
    "        output_path = os.path.join(output_directory, f'page_{page_num + 1}.png')\n",
    "        \n",
    "        # Convert the pixmap to an image and save it\n",
    "        img = Image.frombytes(\"RGB\", [pix.width, pix.height], pix.samples)\n",
    "        img.save(output_path)\n",
    "        \n",
    "        print(f\"Saved {output_path} with resolution {pix.width}x{pix.height}\")\n",
    "    \n",
    "    # Close the PDF document\n",
    "    pdf_document.close()\n",
    "\n",
    "# Example usage:\n",
    "pdf_file = 'data.pdf'  # Path to your PDF file\n",
    "output_directory = 'pdf_screenshots'  # Directory to save images\n",
    "zoom_factor = 3.0  # Increase this value for higher resolution (2.0 is good, 3.0 is better)\n",
    "\n",
    "pdf_to_images(pdf_file, output_directory, zoom_factor)\n"
   ]
  },
  {
   "cell_type": "code",
   "execution_count": 1,
   "metadata": {},
   "outputs": [
    {
     "name": "stdout",
     "output_type": "stream",
     "text": [
      "Graph detected on page 2, extracting data...\n",
      "Graph detected on page 8, extracting data...\n",
      "Graph detected on page 14, extracting data...\n",
      "Graph detected on page 15, extracting data...\n",
      "Graph detected on page 21, extracting data...\n",
      "All data has been saved to extracted_images/extracted_graph_data.csv\n"
     ]
    }
   ],
   "source": []
  }
 ],
 "metadata": {
  "kernelspec": {
   "display_name": "Python 3",
   "language": "python",
   "name": "python3"
  },
  "language_info": {
   "codemirror_mode": {
    "name": "ipython",
    "version": 3
   },
   "file_extension": ".py",
   "mimetype": "text/x-python",
   "name": "python",
   "nbconvert_exporter": "python",
   "pygments_lexer": "ipython3",
   "version": "3.11.2"
  },
  "orig_nbformat": 4
 },
 "nbformat": 4,
 "nbformat_minor": 2
}
